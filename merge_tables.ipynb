{
 "cells": [
  {
   "cell_type": "code",
   "execution_count": 26,
   "metadata": {},
   "outputs": [],
   "source": [
    "# Common imports\n",
    "\n",
    "import pandas as pd\n",
    "import numpy as np"
   ]
  },
  {
   "cell_type": "code",
   "execution_count": 27,
   "metadata": {},
   "outputs": [],
   "source": [
    "PATH_TO_FAR_ATLAS = 'data/far_atlas.csv'\n",
    "PATH_TO_FVFB_DATA = 'data/fvfb_data.csv'"
   ]
  },
  {
   "cell_type": "code",
   "execution_count": 28,
   "metadata": {},
   "outputs": [],
   "source": [
    "def load_data_locally():\n",
    "    # as opposed to using Colab\n",
    "    return pd.read_csv(PATH_TO_FAR_ATLAS), pd.read_csv(PATH_TO_FVFB_DATA)"
   ]
  },
  {
   "cell_type": "code",
   "execution_count": 29,
   "metadata": {},
   "outputs": [],
   "source": [
    "df_fa, df_fvfb = load_data_locally()"
   ]
  },
  {
   "cell_type": "code",
   "execution_count": 38,
   "metadata": {},
   "outputs": [],
   "source": [
    "def modify_fvfb(df):\n",
    "    # Only get 2019 data\n",
    "    df = df[df['Year'] == 2019]\n",
    "\n",
    "    # Drop geopoint\n",
    "    df.drop(columns=['Geopoint'])\n",
    "\n",
    "    # Capitalize County\n",
    "    capitalized = df['Locality'].apply(lambda x: x.title())\n",
    "    df['Locality'] = capitalized\n",
    "\n",
    "    return df\n",
    "\n",
    "df_fvfb = modify_fvfb(df_fvfb)"
   ]
  },
  {
   "cell_type": "code",
   "execution_count": 40,
   "metadata": {},
   "outputs": [],
   "source": [
    "def modify_fa(df):\n",
    "    # Only get VA data\n",
    "    df = df[df['State'] == 'Virginia']\n",
    "\n",
    "    # Capitalize County\n",
    "    capitalized = df['County'].apply(lambda x: x.title())\n",
    "    df['County'] = capitalized\n",
    "\n",
    "    return df\n",
    "\n",
    "df_fa = modify_fa(df_fa)"
   ]
  },
  {
   "cell_type": "code",
   "execution_count": 42,
   "metadata": {},
   "outputs": [
    {
     "name": "stdout",
     "output_type": "stream",
     "text": [
      "We have 130 final counties, with only 5 counties left out.\n",
      "Counties only in Far Atlas: {'Fairfax City', 'Falls Church City', 'Manassas Park City'}\n",
      "Counties only in VA dataset: {'King And Queen', 'Washington Dc'}\n"
     ]
    }
   ],
   "source": [
    "fa_county_set = set(df_fa['County'].values)\n",
    "fvfb_county_set = set(df_fvfb['Locality'].values)\n",
    "county_intersection = fa_county_set.intersection(fvfb_county_set)\n",
    "counties_only_in_fa = fa_county_set - county_intersection\n",
    "counties_only_in_fvfb = fvfb_county_set - county_intersection\n",
    "\n",
    "print('We have %d final counties, with only %d counties left out.' % (len(county_intersection), len(counties_only_in_fa) + len(counties_only_in_fvfb)))\n",
    "print('Counties only in Far Atlas: %s' % counties_only_in_fa)\n",
    "print('Counties only in VA dataset: %s' % counties_only_in_fvfb)"
   ]
  }
 ],
 "metadata": {
  "kernelspec": {
   "display_name": "Python 3",
   "language": "python",
   "name": "python3"
  },
  "language_info": {
   "codemirror_mode": {
    "name": "ipython",
    "version": 3
   },
   "file_extension": ".py",
   "mimetype": "text/x-python",
   "name": "python",
   "nbconvert_exporter": "python",
   "pygments_lexer": "ipython3",
   "version": "3.10.5"
  }
 },
 "nbformat": 4,
 "nbformat_minor": 2
}
