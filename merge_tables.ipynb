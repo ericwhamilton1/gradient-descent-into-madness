{
 "cells": [
  {
   "cell_type": "code",
   "execution_count": 50,
   "metadata": {},
   "outputs": [],
   "source": [
    "# Common imports\n",
    "\n",
    "import pandas as pd\n",
    "import numpy as np"
   ]
  },
  {
   "cell_type": "code",
   "execution_count": 51,
   "metadata": {},
   "outputs": [],
   "source": [
    "PATH_TO_FAR_ATLAS = 'data/far_atlas.csv'\n",
    "PATH_TO_FVFB_DATA = 'data/fvfb_data.csv'"
   ]
  },
  {
   "cell_type": "code",
   "execution_count": 52,
   "metadata": {},
   "outputs": [],
   "source": [
    "def load_data_locally():\n",
    "    # as opposed to using Colab\n",
    "    return pd.read_csv(PATH_TO_FAR_ATLAS), pd.read_csv(PATH_TO_FVFB_DATA)"
   ]
  },
  {
   "cell_type": "code",
   "execution_count": 53,
   "metadata": {},
   "outputs": [],
   "source": [
    "df_fa, df_fvfb = load_data_locally()"
   ]
  },
  {
   "cell_type": "code",
   "execution_count": 54,
   "metadata": {},
   "outputs": [],
   "source": [
    "def modify_fvfb(df):\n",
    "    # Only get 2019 data\n",
    "    df = df[df['Year'] == 2019]\n",
    "\n",
    "    # Drop geopoint\n",
    "    df.drop(columns=['Geopoint'])\n",
    "\n",
    "    return df\n",
    "\n",
    "df_fvfb = modify_fvfb(df_fvfb)\n",
    "# df_fvfb.describe()"
   ]
  },
  {
   "cell_type": "code",
   "execution_count": 58,
   "metadata": {},
   "outputs": [
    {
     "data": {
      "text/plain": [
       "CensusTract  State     County           Urban  Pop2010  OHU2010  GroupQuartersFlag  NUMGQTRS  PCTGQTRS  LILATracts_1And10  LILATracts_halfAnd10  LILATracts_1And20  LILATracts_Vehicle  HUNVFlag  LowIncomeTracts  PovertyRate  MedianFamilyIncome  LA1and10  LAhalfand10  LA1and20  LATracts_half  LATracts1  LATracts10  LATracts20  LATractsVehicle_20  LAPOP1_10  LAPOP05_10  LAPOP1_20  LALOWI1_10  LALOWI05_10  LALOWI1_20  lapophalf  lapophalfshare  lalowihalf  lalowihalfshare  lakidshalf  lakidshalfshare  laseniorshalf  laseniorshalfshare  lawhitehalf  lawhitehalfshare  lablackhalf  lablackhalfshare  laasianhalf  laasianhalfshare  lanhopihalf  lanhopihalfshare  laaianhalf  laaianhalfshare  laomultirhalf  laomultirhalfshare  lahisphalf  lahisphalfshare  lahunvhalf  lahunvhalfshare  lasnaphalf  lasnaphalfshare  lapop1  lapop1share  lalowi1  lalowi1share  lakids1  lakids1share  laseniors1  laseniors1share  lawhite1  lawhite1share  lablack1  lablack1share  laasian1  laasian1share  lanhopi1  lanhopi1share  laaian1  laaian1share  laomultir1  laomultir1share  lahisp1  lahisp1share  lahunv1  lahunv1share  lasnap1  lasnap1share  lapop10  lapop10share  lalowi10  lalowi10share  lakids10  lakids10share  laseniors10  laseniors10share  lawhite10  lawhite10share  lablack10  lablack10share  laasian10  laasian10share  lanhopi10  lanhopi10share  laaian10  laaian10share  laomultir10  laomultir10share  lahisp10  lahisp10share  lahunv10  lahunv10share  lasnap10  lasnap10share  lapop20  lapop20share  lalowi20  lalowi20share  lakids20  lakids20share  laseniors20  laseniors20share  lawhite20  lawhite20share  lablack20  lablack20share  laasian20  laasian20share  lanhopi20  lanhopi20share  laaian20  laaian20share  laomultir20  laomultir20share  lahisp20  lahisp20share  lahunv20  lahunv20share  lasnap20  lasnap20share  TractLOWI  TractKids  TractSeniors  TractWhite  TractBlack  TractAsian  TractNHOPI  TractAIAN  TractOMultir  TractHispanic  TractHUNV  TractSNAP\n",
       "51091970100  Virginia  Highland County  0      2321     1081     0                  0.0       0.0       1                  1                     1                  1                   0         1                12.3         54922.0             1         1            1         0              0          1           1           1                   2313.0     2313.0      587.0      800.0       800.0        202.0       2321.0     100.0           802.0       34.56            346.0       14.91            579.0          24.95               2289.0       98.62             6.0          0.26              4.0          0.17              0.0          0.0               5.0         0.22             17.0           0.73                18.0        0.78             77.0        7.13             70.0        6.5              2321.0  100.0        802.0    34.56         346.0    14.91         579.0       24.95            2289.0    98.62          6.0       0.26           4.0       0.17           0.0       0.0            5.0      0.22          17.0        0.73             18.0     0.78          77.0     7.13          70.0     6.5           2313.0   99.67         800.0     34.45          345.0     14.88          578.0        24.92             2281.0     98.29           6.0        0.26            4.0        0.17            0.0        0.0             5.0       0.22           17.0         0.73              18.0      0.78           77.0      7.09           70.0      6.48           587.0    25.31         202.0     8.7            90.0      3.88           144.0        6.22              583.0      25.11           2.0        0.09            1.0        0.04            0.0        0.0             0.0       0.0            1.0          0.06              0.0       0.0            25.0      2.0            17.0      1.61           743.0      346.0      579.0         2289.0      6.0         4.0         0.0         5.0        17.0          18.0           81.0       73.0         1\n",
       "dtype: int64"
      ]
     },
     "execution_count": 58,
     "metadata": {},
     "output_type": "execute_result"
    }
   ],
   "source": [
    "def modify_fa(df):\n",
    "    # Only get VA data\n",
    "    df = df[df['State'] == 'Virginia']\n",
    "\n",
    "    return df\n",
    "\n",
    "df_fa = modify_fa(df_fa)\n"
   ]
  }
 ],
 "metadata": {
  "kernelspec": {
   "display_name": "Python 3",
   "language": "python",
   "name": "python3"
  },
  "language_info": {
   "codemirror_mode": {
    "name": "ipython",
    "version": 3
   },
   "file_extension": ".py",
   "mimetype": "text/x-python",
   "name": "python",
   "nbconvert_exporter": "python",
   "pygments_lexer": "ipython3",
   "version": "3.10.5"
  }
 },
 "nbformat": 4,
 "nbformat_minor": 2
}
