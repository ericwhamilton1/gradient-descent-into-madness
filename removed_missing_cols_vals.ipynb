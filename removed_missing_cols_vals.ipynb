{
 "cells": [
  {
   "cell_type": "code",
   "execution_count": 1,
   "metadata": {},
   "outputs": [],
   "source": [
    "import pandas as pd\n",
    "\n",
    "def clean_data(df):\n",
    "    # Drop columns: 'lasnap20share', 'lahunv20share' and 24 other columns\n",
    "    df = df.drop(columns=['lasnap20share', 'lahunv20share', 'lahisp20share', 'laomultir20share', 'laaian20share', 'lanhopi20share', 'laasian20share', 'lablack20share', 'lawhite20share', 'laseniors20share', 'lakids20share', 'lalowi20share', 'lapop20share', 'lasnap10share', 'lahunv10share', 'lahisp10share', 'laomultir10share', 'laaian10share', 'lanhopi10share', 'laasian10share', 'lablack10share', 'lawhite10share', 'laseniors10share', 'lakids10share', 'lalowi10share', 'lapop10share'])\n",
    "    # Drop rows with missing data in column: 'lasnap1share'\n",
    "    df = df.dropna(subset=['lasnap1share'])\n",
    "    return df\n",
    "\n",
    "# Loaded variable 'df' from URI: /Users/ericwhamilton/Developer/cs4774_ml/gradient-descent-into-madness/data/merged_data.csv\n",
    "df = pd.read_csv(r'data/merged_data.csv')\n",
    "\n",
    "df_clean = clean_data(df.copy())\n",
    "df_clean.head()\n",
    "df_clean.to_csv(r'data/merged_data_dropped.csv')"
   ]
  }
 ],
 "metadata": {
  "kernelspec": {
   "display_name": "venv",
   "language": "python",
   "name": "python3"
  },
  "language_info": {
   "codemirror_mode": {
    "name": "ipython",
    "version": 3
   },
   "file_extension": ".py",
   "mimetype": "text/x-python",
   "name": "python",
   "nbconvert_exporter": "python",
   "pygments_lexer": "ipython3",
   "version": "3.11.6"
  }
 },
 "nbformat": 4,
 "nbformat_minor": 2
}
