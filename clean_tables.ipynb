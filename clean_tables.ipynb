{
 "cells": [
  {
   "cell_type": "code",
   "execution_count": 1,
   "metadata": {},
   "outputs": [],
   "source": [
    "import pandas as pd"
   ]
  },
  {
   "cell_type": "code",
   "execution_count": 2,
   "metadata": {},
   "outputs": [
    {
     "name": "stdout",
     "output_type": "stream",
     "text": [
      "['lanhopi10', 'lapop20', 'lalowi20', 'lakids20', 'laseniors20', 'lawhite20', 'lablack20', 'laasian20', 'lanhopi20', 'laaian20', 'laomultir20', 'lahisp20', 'lahunv20', 'lasnap20', 'GroupQuartersFlag', 'LILATracts_1And10', 'LILATracts_1And20', 'LILATracts_Vehicle', 'HUNVFlag', 'LA1and20', 'LATracts1', 'LATracts10', 'LATracts20', 'LATractsVehicle_20']\n"
     ]
    }
   ],
   "source": [
    "def drop_null_cols(df):\n",
    "    # Drop columns: 'lasnap20share', 'lahunv20share' and 24 other columns\n",
    "    df = df.drop(columns=['lasnap20share', 'lahunv20share', 'lahisp20share', 'laomultir20share', 'laaian20share', 'lanhopi20share', 'laasian20share', 'lablack20share', 'lawhite20share', 'laseniors20share', 'lakids20share', 'lalowi20share', 'lapop20share', 'lasnap10share', 'lahunv10share', 'lahisp10share', 'laomultir10share', 'laaian10share', 'lanhopi10share', 'laasian10share', 'lablack10share', 'lawhite10share', 'laseniors10share', 'lakids10share', 'lalowi10share', 'lapop10share'])\n",
    "    # Drop row with all missing data\n",
    "    df = df.dropna(subset=['lasnap1share'])\n",
    "    return df\n",
    "\n",
    "def cap_outliers(series: pd.Series, multiplier: float = 1.5) -> pd.Series:\n",
    "    \"\"\"Cap outliers in a series based on the IQR rule.\n",
    "\n",
    "    Args:\n",
    "        series (pd.Series): The series to cap outliers in.\n",
    "        multiplier (float, optional): The IQR multiplier to use. Defaults to 1.5.\n",
    "\n",
    "    Returns:\n",
    "        pd.Series: The series with outliers capped.\n",
    "    \"\"\"\n",
    "    q1 = series.quantile(0.25)\n",
    "    q3 = series.quantile(0.75)\n",
    "    iqr = q3 - q1\n",
    "    lower_bound = q1 - (multiplier * iqr)\n",
    "    upper_bound = q3 + (multiplier * iqr)\n",
    "    return series.clip(lower_bound, upper_bound)\n",
    "\n",
    "def drop_outliers(df: pd.DataFrame):\n",
    "    \"\"\"Drop outliers in a dataframe based on the IQR rule.\n",
    "\n",
    "    Args:\n",
    "        df (pd.DataFrame): The dataframe to drop outliers in.\n",
    "\n",
    "    Returns:\n",
    "        pd.DataFrame: The dataframe with outliers dropped.\n",
    "    \"\"\"\n",
    "    df = df.copy()\n",
    "    numeric_cols = df.select_dtypes(include=['number']).columns\n",
    "    df[numeric_cols] = df[numeric_cols].apply(cap_outliers, axis=0)\n",
    "    return df\n",
    "\n",
    "def drop_const_cols(df: pd.DataFrame):\n",
    "    \"\"\"Drop columns with constant values in a dataframe.\"\"\"\n",
    "    const_cols = [col for col in df.columns if df[col].nunique() <= 1]\n",
    "    print(const_cols)\n",
    "    df_reduced = df.drop(const_cols, axis=1)\n",
    "    return df_reduced\n",
    "\n",
    "def drop_manual_cols(df: pd.DataFrame):\n",
    "    \"\"\"Drop columns from a dataframe that are present in a manually-defined list\"\"\"\n",
    "    drop_cols = [\"MTW Status\"]\n",
    "    df_reduced = df.drop(drop_cols, axis=1)\n",
    "    return df_reduced\n",
    "\n",
    "df = pd.read_csv(r'data/merged_data.csv')\n",
    "df_clean = drop_manual_cols(drop_const_cols(drop_outliers(drop_null_cols(df))))\n",
    "df_clean.to_csv(r'data/merged_data_clean.csv', index=False)"
   ]
  }
 ],
 "metadata": {
  "kernelspec": {
   "display_name": "venv",
   "language": "python",
   "name": "python3"
  },
  "language_info": {
   "codemirror_mode": {
    "name": "ipython",
    "version": 3
   },
   "file_extension": ".py",
   "mimetype": "text/x-python",
   "name": "python",
   "nbconvert_exporter": "python",
   "pygments_lexer": "ipython3",
   "version": "3.11.4"
  }
 },
 "nbformat": 4,
 "nbformat_minor": 2
}
