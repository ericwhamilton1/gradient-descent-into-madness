{
 "cells": [
  {
   "attachments": {},
   "cell_type": "markdown",
   "metadata": {},
   "source": [
    "# Preliminary Experiment\n",
    "To begin exploring the relationships in our data we decided to apply k-means clustering analysis. "
   ]
  },
  {
   "cell_type": "code",
   "execution_count": 7,
   "metadata": {},
   "outputs": [],
   "source": [
    "# Imports\n",
    "import pandas as pd\n",
    "from pandas.plotting import scatter_matrix\n",
    "# pd.set_option('display.max_columns', None)\n",
    "import numpy as np\n",
    "import seaborn as sns\n",
    "import matplotlib.pyplot as plt\n",
    "import matplotlib.image as mpimg\n",
    "import sklearn as skl\n",
    "from sklearn.model_selection import StratifiedShuffleSplit\n",
    "from sklearn.pipeline import Pipeline\n",
    "from sklearn.preprocessing import StandardScaler, OneHotEncoder, scale\n",
    "from sklearn.compose import ColumnTransformer\n",
    "from sklearn.base import BaseEstimator, TransformerMixin\n",
    "from sklearn.impute import SimpleImputer\n",
    "from sklearn.cluster import KMeans, DBSCAN\n",
    "from sklearn.mixture import GaussianMixture\n",
    "from sklearn import set_config\n",
    "set_config(transform_output=\"pandas\")\n",
    "from IPython.display import display\n",
    "%matplotlib inline\n",
    "\n",
    "SEED = 42\n",
    "np.random.seed(SEED)"
   ]
  },
  {
   "attachments": {},
   "cell_type": "markdown",
   "metadata": {},
   "source": [
    "Loading the cleaned data"
   ]
  },
  {
   "cell_type": "code",
   "execution_count": 8,
   "metadata": {},
   "outputs": [
    {
     "data": {
      "text/html": [
       "<div>\n",
       "<style scoped>\n",
       "    .dataframe tbody tr th:only-of-type {\n",
       "        vertical-align: middle;\n",
       "    }\n",
       "\n",
       "    .dataframe tbody tr th {\n",
       "        vertical-align: top;\n",
       "    }\n",
       "\n",
       "    .dataframe thead th {\n",
       "        text-align: right;\n",
       "    }\n",
       "</style>\n",
       "<table border=\"1\" class=\"dataframe\">\n",
       "  <thead>\n",
       "    <tr style=\"text-align: right;\">\n",
       "      <th></th>\n",
       "      <th>County</th>\n",
       "      <th>Households Served</th>\n",
       "      <th>Individuals Served</th>\n",
       "      <th>Pounds of Food Distributed</th>\n",
       "      <th>Children Served via non-federal child nutrition programs</th>\n",
       "      <th>Pounds of food distributed via non-federal child nutrition progr</th>\n",
       "      <th>Virginia City/County Boundaries</th>\n",
       "      <th>LAT</th>\n",
       "      <th>LON</th>\n",
       "      <th>Pop2010</th>\n",
       "      <th>...</th>\n",
       "      <th>laseniors1share</th>\n",
       "      <th>lawhite1share</th>\n",
       "      <th>lablack1share</th>\n",
       "      <th>laasian1share</th>\n",
       "      <th>lanhopi1share</th>\n",
       "      <th>laaian1share</th>\n",
       "      <th>laomultir1share</th>\n",
       "      <th>lahisp1share</th>\n",
       "      <th>lahunv1share</th>\n",
       "      <th>lasnap1share</th>\n",
       "    </tr>\n",
       "  </thead>\n",
       "  <tbody>\n",
       "    <tr>\n",
       "      <th>0</th>\n",
       "      <td>Accomack County</td>\n",
       "      <td>21391.0</td>\n",
       "      <td>62975.0</td>\n",
       "      <td>1248586.00</td>\n",
       "      <td>3112.0</td>\n",
       "      <td>42929.0</td>\n",
       "      <td>432.0</td>\n",
       "      <td>37.765943</td>\n",
       "      <td>-75.757807</td>\n",
       "      <td>33164.0</td>\n",
       "      <td>...</td>\n",
       "      <td>13.681111</td>\n",
       "      <td>59.306667</td>\n",
       "      <td>19.977778</td>\n",
       "      <td>0.393333</td>\n",
       "      <td>0.070000</td>\n",
       "      <td>0.308889</td>\n",
       "      <td>3.928889</td>\n",
       "      <td>4.670000</td>\n",
       "      <td>8.121111</td>\n",
       "      <td>11.140000</td>\n",
       "    </tr>\n",
       "    <tr>\n",
       "      <th>1</th>\n",
       "      <td>Albemarle County</td>\n",
       "      <td>29526.0</td>\n",
       "      <td>78415.0</td>\n",
       "      <td>2044282.70</td>\n",
       "      <td>857.0</td>\n",
       "      <td>18305.0</td>\n",
       "      <td>1464.0</td>\n",
       "      <td>38.024184</td>\n",
       "      <td>-78.553506</td>\n",
       "      <td>98970.0</td>\n",
       "      <td>...</td>\n",
       "      <td>9.564500</td>\n",
       "      <td>54.430000</td>\n",
       "      <td>4.594000</td>\n",
       "      <td>1.264872</td>\n",
       "      <td>0.023500</td>\n",
       "      <td>0.146000</td>\n",
       "      <td>2.497500</td>\n",
       "      <td>2.781000</td>\n",
       "      <td>1.136000</td>\n",
       "      <td>2.292500</td>\n",
       "    </tr>\n",
       "    <tr>\n",
       "      <th>2</th>\n",
       "      <td>Alleghany County</td>\n",
       "      <td>4393.0</td>\n",
       "      <td>11912.0</td>\n",
       "      <td>312425.78</td>\n",
       "      <td>0.0</td>\n",
       "      <td>0.0</td>\n",
       "      <td>180.0</td>\n",
       "      <td>37.787905</td>\n",
       "      <td>-80.008669</td>\n",
       "      <td>16250.0</td>\n",
       "      <td>...</td>\n",
       "      <td>17.011667</td>\n",
       "      <td>82.010000</td>\n",
       "      <td>2.348333</td>\n",
       "      <td>0.120000</td>\n",
       "      <td>0.031667</td>\n",
       "      <td>0.143333</td>\n",
       "      <td>1.031667</td>\n",
       "      <td>0.818333</td>\n",
       "      <td>4.220000</td>\n",
       "      <td>9.371667</td>\n",
       "    </tr>\n",
       "    <tr>\n",
       "      <th>3</th>\n",
       "      <td>Amelia County</td>\n",
       "      <td>1762.0</td>\n",
       "      <td>5334.0</td>\n",
       "      <td>123632.00</td>\n",
       "      <td>0.0</td>\n",
       "      <td>0.0</td>\n",
       "      <td>1224.0</td>\n",
       "      <td>37.331927</td>\n",
       "      <td>-77.977462</td>\n",
       "      <td>12690.0</td>\n",
       "      <td>...</td>\n",
       "      <td>15.590000</td>\n",
       "      <td>72.275000</td>\n",
       "      <td>22.515000</td>\n",
       "      <td>0.215000</td>\n",
       "      <td>0.035000</td>\n",
       "      <td>0.438125</td>\n",
       "      <td>2.660000</td>\n",
       "      <td>2.280000</td>\n",
       "      <td>3.305000</td>\n",
       "      <td>10.420000</td>\n",
       "    </tr>\n",
       "    <tr>\n",
       "      <th>4</th>\n",
       "      <td>Amherst County</td>\n",
       "      <td>12190.0</td>\n",
       "      <td>28650.0</td>\n",
       "      <td>1307267.61</td>\n",
       "      <td>3187.5</td>\n",
       "      <td>30019.0</td>\n",
       "      <td>396.0</td>\n",
       "      <td>37.630362</td>\n",
       "      <td>-79.147848</td>\n",
       "      <td>32353.0</td>\n",
       "      <td>...</td>\n",
       "      <td>9.536667</td>\n",
       "      <td>47.644444</td>\n",
       "      <td>12.000000</td>\n",
       "      <td>0.243333</td>\n",
       "      <td>0.013333</td>\n",
       "      <td>0.438125</td>\n",
       "      <td>1.845556</td>\n",
       "      <td>1.212222</td>\n",
       "      <td>2.373333</td>\n",
       "      <td>6.264444</td>\n",
       "    </tr>\n",
       "  </tbody>\n",
       "</table>\n",
       "<p>5 rows × 103 columns</p>\n",
       "</div>"
      ],
      "text/plain": [
       "             County  Households Served  Individuals Served  \\\n",
       "0   Accomack County            21391.0             62975.0   \n",
       "1  Albemarle County            29526.0             78415.0   \n",
       "2  Alleghany County             4393.0             11912.0   \n",
       "3     Amelia County             1762.0              5334.0   \n",
       "4    Amherst County            12190.0             28650.0   \n",
       "\n",
       "   Pounds of Food Distributed  \\\n",
       "0                  1248586.00   \n",
       "1                  2044282.70   \n",
       "2                   312425.78   \n",
       "3                   123632.00   \n",
       "4                  1307267.61   \n",
       "\n",
       "   Children Served via non-federal child nutrition programs  \\\n",
       "0                                             3112.0          \n",
       "1                                              857.0          \n",
       "2                                                0.0          \n",
       "3                                                0.0          \n",
       "4                                             3187.5          \n",
       "\n",
       "   Pounds of food distributed via non-federal child nutrition progr  \\\n",
       "0                                            42929.0                  \n",
       "1                                            18305.0                  \n",
       "2                                                0.0                  \n",
       "3                                                0.0                  \n",
       "4                                            30019.0                  \n",
       "\n",
       "   Virginia City/County Boundaries        LAT        LON  Pop2010  ...  \\\n",
       "0                            432.0  37.765943 -75.757807  33164.0  ...   \n",
       "1                           1464.0  38.024184 -78.553506  98970.0  ...   \n",
       "2                            180.0  37.787905 -80.008669  16250.0  ...   \n",
       "3                           1224.0  37.331927 -77.977462  12690.0  ...   \n",
       "4                            396.0  37.630362 -79.147848  32353.0  ...   \n",
       "\n",
       "   laseniors1share  lawhite1share  lablack1share  laasian1share  \\\n",
       "0        13.681111      59.306667      19.977778       0.393333   \n",
       "1         9.564500      54.430000       4.594000       1.264872   \n",
       "2        17.011667      82.010000       2.348333       0.120000   \n",
       "3        15.590000      72.275000      22.515000       0.215000   \n",
       "4         9.536667      47.644444      12.000000       0.243333   \n",
       "\n",
       "   lanhopi1share  laaian1share  laomultir1share  lahisp1share  lahunv1share  \\\n",
       "0       0.070000      0.308889         3.928889      4.670000      8.121111   \n",
       "1       0.023500      0.146000         2.497500      2.781000      1.136000   \n",
       "2       0.031667      0.143333         1.031667      0.818333      4.220000   \n",
       "3       0.035000      0.438125         2.660000      2.280000      3.305000   \n",
       "4       0.013333      0.438125         1.845556      1.212222      2.373333   \n",
       "\n",
       "   lasnap1share  \n",
       "0     11.140000  \n",
       "1      2.292500  \n",
       "2      9.371667  \n",
       "3     10.420000  \n",
       "4      6.264444  \n",
       "\n",
       "[5 rows x 103 columns]"
      ]
     },
     "execution_count": 8,
     "metadata": {},
     "output_type": "execute_result"
    }
   ],
   "source": [
    "data = pd.read_csv(\"data/merged_data_clean.csv\")\n",
    "data.head()"
   ]
  },
  {
   "cell_type": "code",
   "execution_count": 9,
   "metadata": {},
   "outputs": [
    {
     "name": "stdout",
     "output_type": "stream",
     "text": [
      "# entries:  129\n",
      "# features:  103\n",
      "# categorical features:  1\n",
      "List categorical features:  ['County']\n",
      "# missing values:  0\n"
     ]
    },
    {
     "data": {
      "text/html": [
       "<div>\n",
       "<style scoped>\n",
       "    .dataframe tbody tr th:only-of-type {\n",
       "        vertical-align: middle;\n",
       "    }\n",
       "\n",
       "    .dataframe tbody tr th {\n",
       "        vertical-align: top;\n",
       "    }\n",
       "\n",
       "    .dataframe thead th {\n",
       "        text-align: right;\n",
       "    }\n",
       "</style>\n",
       "<table border=\"1\" class=\"dataframe\">\n",
       "  <thead>\n",
       "    <tr style=\"text-align: right;\">\n",
       "      <th></th>\n",
       "      <th>Households Served</th>\n",
       "      <th>Individuals Served</th>\n",
       "      <th>Pounds of Food Distributed</th>\n",
       "      <th>Children Served via non-federal child nutrition programs</th>\n",
       "      <th>Pounds of food distributed via non-federal child nutrition progr</th>\n",
       "      <th>Virginia City/County Boundaries</th>\n",
       "      <th>LAT</th>\n",
       "      <th>LON</th>\n",
       "      <th>Pop2010</th>\n",
       "      <th>OHU2010</th>\n",
       "      <th>...</th>\n",
       "      <th>laseniors1share</th>\n",
       "      <th>lawhite1share</th>\n",
       "      <th>lablack1share</th>\n",
       "      <th>laasian1share</th>\n",
       "      <th>lanhopi1share</th>\n",
       "      <th>laaian1share</th>\n",
       "      <th>laomultir1share</th>\n",
       "      <th>lahisp1share</th>\n",
       "      <th>lahunv1share</th>\n",
       "      <th>lasnap1share</th>\n",
       "    </tr>\n",
       "  </thead>\n",
       "  <tbody>\n",
       "    <tr>\n",
       "      <th>count</th>\n",
       "      <td>129.000000</td>\n",
       "      <td>129.000000</td>\n",
       "      <td>1.290000e+02</td>\n",
       "      <td>129.000000</td>\n",
       "      <td>129.000000</td>\n",
       "      <td>129.000000</td>\n",
       "      <td>129.000000</td>\n",
       "      <td>129.000000</td>\n",
       "      <td>129.000000</td>\n",
       "      <td>129.000000</td>\n",
       "      <td>...</td>\n",
       "      <td>129.000000</td>\n",
       "      <td>129.000000</td>\n",
       "      <td>129.000000</td>\n",
       "      <td>129.000000</td>\n",
       "      <td>129.000000</td>\n",
       "      <td>129.000000</td>\n",
       "      <td>129.000000</td>\n",
       "      <td>129.000000</td>\n",
       "      <td>129.000000</td>\n",
       "      <td>129.000000</td>\n",
       "    </tr>\n",
       "    <tr>\n",
       "      <th>mean</th>\n",
       "      <td>10442.325581</td>\n",
       "      <td>31447.705426</td>\n",
       "      <td>6.752746e+05</td>\n",
       "      <td>799.259690</td>\n",
       "      <td>11578.108527</td>\n",
       "      <td>936.434109</td>\n",
       "      <td>37.526000</td>\n",
       "      <td>-78.551888</td>\n",
       "      <td>39785.736434</td>\n",
       "      <td>15824.751938</td>\n",
       "      <td>...</td>\n",
       "      <td>11.066008</td>\n",
       "      <td>52.920615</td>\n",
       "      <td>11.827629</td>\n",
       "      <td>0.484522</td>\n",
       "      <td>0.022247</td>\n",
       "      <td>0.193238</td>\n",
       "      <td>1.818989</td>\n",
       "      <td>1.799169</td>\n",
       "      <td>3.531992</td>\n",
       "      <td>7.574178</td>\n",
       "    </tr>\n",
       "    <tr>\n",
       "      <th>std</th>\n",
       "      <td>9164.694565</td>\n",
       "      <td>28350.674849</td>\n",
       "      <td>6.380606e+05</td>\n",
       "      <td>1184.974626</td>\n",
       "      <td>17472.897261</td>\n",
       "      <td>609.911108</td>\n",
       "      <td>0.680862</td>\n",
       "      <td>1.739062</td>\n",
       "      <td>35223.856365</td>\n",
       "      <td>14275.178774</td>\n",
       "      <td>...</td>\n",
       "      <td>5.824876</td>\n",
       "      <td>25.579737</td>\n",
       "      <td>12.193551</td>\n",
       "      <td>0.355817</td>\n",
       "      <td>0.020057</td>\n",
       "      <td>0.113218</td>\n",
       "      <td>0.932313</td>\n",
       "      <td>1.117708</td>\n",
       "      <td>1.967011</td>\n",
       "      <td>4.839059</td>\n",
       "    </tr>\n",
       "    <tr>\n",
       "      <th>min</th>\n",
       "      <td>0.000000</td>\n",
       "      <td>0.000000</td>\n",
       "      <td>0.000000e+00</td>\n",
       "      <td>0.000000</td>\n",
       "      <td>0.000000</td>\n",
       "      <td>12.000000</td>\n",
       "      <td>36.583334</td>\n",
       "      <td>-83.130112</td>\n",
       "      <td>2321.000000</td>\n",
       "      <td>1081.000000</td>\n",
       "      <td>...</td>\n",
       "      <td>0.397143</td>\n",
       "      <td>0.685000</td>\n",
       "      <td>0.090000</td>\n",
       "      <td>0.010000</td>\n",
       "      <td>0.000000</td>\n",
       "      <td>0.000000</td>\n",
       "      <td>0.025000</td>\n",
       "      <td>0.025000</td>\n",
       "      <td>0.030000</td>\n",
       "      <td>0.080000</td>\n",
       "    </tr>\n",
       "    <tr>\n",
       "      <th>25%</th>\n",
       "      <td>3671.000000</td>\n",
       "      <td>10899.000000</td>\n",
       "      <td>2.188850e+05</td>\n",
       "      <td>0.000000</td>\n",
       "      <td>0.000000</td>\n",
       "      <td>420.000000</td>\n",
       "      <td>36.974561</td>\n",
       "      <td>-79.732898</td>\n",
       "      <td>14068.000000</td>\n",
       "      <td>5706.000000</td>\n",
       "      <td>...</td>\n",
       "      <td>5.680000</td>\n",
       "      <td>30.652182</td>\n",
       "      <td>2.150625</td>\n",
       "      <td>0.212308</td>\n",
       "      <td>0.007500</td>\n",
       "      <td>0.116250</td>\n",
       "      <td>1.110000</td>\n",
       "      <td>0.920000</td>\n",
       "      <td>1.984706</td>\n",
       "      <td>3.765909</td>\n",
       "    </tr>\n",
       "    <tr>\n",
       "      <th>50%</th>\n",
       "      <td>7002.000000</td>\n",
       "      <td>21822.000000</td>\n",
       "      <td>3.951699e+05</td>\n",
       "      <td>0.000000</td>\n",
       "      <td>0.000000</td>\n",
       "      <td>923.000000</td>\n",
       "      <td>37.361054</td>\n",
       "      <td>-78.242313</td>\n",
       "      <td>25587.000000</td>\n",
       "      <td>10045.000000</td>\n",
       "      <td>...</td>\n",
       "      <td>11.381250</td>\n",
       "      <td>56.712500</td>\n",
       "      <td>7.330000</td>\n",
       "      <td>0.379444</td>\n",
       "      <td>0.017778</td>\n",
       "      <td>0.183333</td>\n",
       "      <td>1.680000</td>\n",
       "      <td>1.645000</td>\n",
       "      <td>3.295000</td>\n",
       "      <td>6.924000</td>\n",
       "    </tr>\n",
       "    <tr>\n",
       "      <th>75%</th>\n",
       "      <td>14013.000000</td>\n",
       "      <td>42082.000000</td>\n",
       "      <td>9.490441e+05</td>\n",
       "      <td>1275.000000</td>\n",
       "      <td>19807.000000</td>\n",
       "      <td>1380.000000</td>\n",
       "      <td>37.971681</td>\n",
       "      <td>-77.259732</td>\n",
       "      <td>54842.000000</td>\n",
       "      <td>22780.000000</td>\n",
       "      <td>...</td>\n",
       "      <td>15.240625</td>\n",
       "      <td>72.275000</td>\n",
       "      <td>18.695714</td>\n",
       "      <td>0.633333</td>\n",
       "      <td>0.032500</td>\n",
       "      <td>0.245000</td>\n",
       "      <td>2.411000</td>\n",
       "      <td>2.420000</td>\n",
       "      <td>4.676739</td>\n",
       "      <td>10.786667</td>\n",
       "    </tr>\n",
       "    <tr>\n",
       "      <th>max</th>\n",
       "      <td>29526.000000</td>\n",
       "      <td>88856.500000</td>\n",
       "      <td>2.044283e+06</td>\n",
       "      <td>3187.500000</td>\n",
       "      <td>49517.500000</td>\n",
       "      <td>2820.000000</td>\n",
       "      <td>39.203637</td>\n",
       "      <td>-75.757807</td>\n",
       "      <td>116003.000000</td>\n",
       "      <td>48391.000000</td>\n",
       "      <td>...</td>\n",
       "      <td>28.113333</td>\n",
       "      <td>98.620000</td>\n",
       "      <td>43.513348</td>\n",
       "      <td>1.264872</td>\n",
       "      <td>0.070000</td>\n",
       "      <td>0.438125</td>\n",
       "      <td>4.362500</td>\n",
       "      <td>4.670000</td>\n",
       "      <td>8.714789</td>\n",
       "      <td>19.935000</td>\n",
       "    </tr>\n",
       "  </tbody>\n",
       "</table>\n",
       "<p>8 rows × 102 columns</p>\n",
       "</div>"
      ],
      "text/plain": [
       "       Households Served  Individuals Served  Pounds of Food Distributed  \\\n",
       "count         129.000000          129.000000                1.290000e+02   \n",
       "mean        10442.325581        31447.705426                6.752746e+05   \n",
       "std          9164.694565        28350.674849                6.380606e+05   \n",
       "min             0.000000            0.000000                0.000000e+00   \n",
       "25%          3671.000000        10899.000000                2.188850e+05   \n",
       "50%          7002.000000        21822.000000                3.951699e+05   \n",
       "75%         14013.000000        42082.000000                9.490441e+05   \n",
       "max         29526.000000        88856.500000                2.044283e+06   \n",
       "\n",
       "       Children Served via non-federal child nutrition programs  \\\n",
       "count                                         129.000000          \n",
       "mean                                          799.259690          \n",
       "std                                          1184.974626          \n",
       "min                                             0.000000          \n",
       "25%                                             0.000000          \n",
       "50%                                             0.000000          \n",
       "75%                                          1275.000000          \n",
       "max                                          3187.500000          \n",
       "\n",
       "       Pounds of food distributed via non-federal child nutrition progr  \\\n",
       "count                                         129.000000                  \n",
       "mean                                        11578.108527                  \n",
       "std                                         17472.897261                  \n",
       "min                                             0.000000                  \n",
       "25%                                             0.000000                  \n",
       "50%                                             0.000000                  \n",
       "75%                                         19807.000000                  \n",
       "max                                         49517.500000                  \n",
       "\n",
       "       Virginia City/County Boundaries         LAT         LON        Pop2010  \\\n",
       "count                       129.000000  129.000000  129.000000     129.000000   \n",
       "mean                        936.434109   37.526000  -78.551888   39785.736434   \n",
       "std                         609.911108    0.680862    1.739062   35223.856365   \n",
       "min                          12.000000   36.583334  -83.130112    2321.000000   \n",
       "25%                         420.000000   36.974561  -79.732898   14068.000000   \n",
       "50%                         923.000000   37.361054  -78.242313   25587.000000   \n",
       "75%                        1380.000000   37.971681  -77.259732   54842.000000   \n",
       "max                        2820.000000   39.203637  -75.757807  116003.000000   \n",
       "\n",
       "            OHU2010  ...  laseniors1share  lawhite1share  lablack1share  \\\n",
       "count    129.000000  ...       129.000000     129.000000     129.000000   \n",
       "mean   15824.751938  ...        11.066008      52.920615      11.827629   \n",
       "std    14275.178774  ...         5.824876      25.579737      12.193551   \n",
       "min     1081.000000  ...         0.397143       0.685000       0.090000   \n",
       "25%     5706.000000  ...         5.680000      30.652182       2.150625   \n",
       "50%    10045.000000  ...        11.381250      56.712500       7.330000   \n",
       "75%    22780.000000  ...        15.240625      72.275000      18.695714   \n",
       "max    48391.000000  ...        28.113333      98.620000      43.513348   \n",
       "\n",
       "       laasian1share  lanhopi1share  laaian1share  laomultir1share  \\\n",
       "count     129.000000     129.000000    129.000000       129.000000   \n",
       "mean        0.484522       0.022247      0.193238         1.818989   \n",
       "std         0.355817       0.020057      0.113218         0.932313   \n",
       "min         0.010000       0.000000      0.000000         0.025000   \n",
       "25%         0.212308       0.007500      0.116250         1.110000   \n",
       "50%         0.379444       0.017778      0.183333         1.680000   \n",
       "75%         0.633333       0.032500      0.245000         2.411000   \n",
       "max         1.264872       0.070000      0.438125         4.362500   \n",
       "\n",
       "       lahisp1share  lahunv1share  lasnap1share  \n",
       "count    129.000000    129.000000    129.000000  \n",
       "mean       1.799169      3.531992      7.574178  \n",
       "std        1.117708      1.967011      4.839059  \n",
       "min        0.025000      0.030000      0.080000  \n",
       "25%        0.920000      1.984706      3.765909  \n",
       "50%        1.645000      3.295000      6.924000  \n",
       "75%        2.420000      4.676739     10.786667  \n",
       "max        4.670000      8.714789     19.935000  \n",
       "\n",
       "[8 rows x 102 columns]"
      ]
     },
     "execution_count": 9,
     "metadata": {},
     "output_type": "execute_result"
    }
   ],
   "source": [
    "print(\"# entries: \", data.shape[0])\n",
    "print(\"# features: \", data.shape[1])\n",
    "print(\"# categorical features: \", len(data.select_dtypes(include=['object']).columns.tolist()))\n",
    "print(\"List categorical features: \", data.select_dtypes(include=['object']).columns.tolist())\n",
    "print(\"# missing values: \", data.isnull().sum().sum())\n",
    "desc_data = data.describe()\n",
    "desc_data"
   ]
  },
  {
   "cell_type": "code",
   "execution_count": 10,
   "metadata": {},
   "outputs": [],
   "source": [
    "# DO NOT RUN! Instead, refer to feature_scatter_matrix.png\n",
    "# scatter_matrix(data, figsize=(200, 200))"
   ]
  },
  {
   "attachments": {},
   "cell_type": "markdown",
   "metadata": {},
   "source": [
    "Looking at the above we can observe 6 variables that are categorical, but have been one-hot encoded. These are: \n",
    "* Urban\n",
    "* LLATracts_halfAnd10\n",
    "* LowincomeTracts\n",
    "* LA1and10\n",
    "* LAhalfand10\n",
    "* LATracts_half\n",
    "\n",
    "Each of these features serves as a flag for a characteristic of a particular census tract."
   ]
  },
  {
   "attachments": {},
   "cell_type": "markdown",
   "metadata": {},
   "source": [
    "Experiment with creating labels for classification"
   ]
  },
  {
   "cell_type": "code",
   "execution_count": 11,
   "metadata": {},
   "outputs": [
    {
     "name": "stderr",
     "output_type": "stream",
     "text": [
      "c:\\ProgramData\\anaconda3\\envs\\4774-env\\Lib\\site-packages\\seaborn\\_oldcore.py:1498: FutureWarning: is_categorical_dtype is deprecated and will be removed in a future version. Use isinstance(dtype, CategoricalDtype) instead\n",
      "  if pd.api.types.is_categorical_dtype(vector):\n",
      "c:\\ProgramData\\anaconda3\\envs\\4774-env\\Lib\\site-packages\\seaborn\\_oldcore.py:1119: FutureWarning: use_inf_as_na option is deprecated and will be removed in a future version. Convert inf values to NaN before operating instead.\n",
      "  with pd.option_context('mode.use_inf_as_na', True):\n"
     ]
    },
    {
     "data": {
      "text/plain": [
       "<Axes: ylabel='Count'>"
      ]
     },
     "execution_count": 11,
     "metadata": {},
     "output_type": "execute_result"
    },
    {
     "data": {
      "image/png": "[encoded data removed]",
      "text/plain": [
       "<Figure size 640x480 with 1 Axes>"
      ]
     },
     "metadata": {},
     "output_type": "display_data"
    }
   ],
   "source": [
    "lbs_per_LI = data['Pounds of Food Distributed'] / data['TractLOWI']\n",
    "sns.histplot(lbs_per_LI, kde=True)"
   ]
  },
  {
   "cell_type": "code",
   "execution_count": 12,
   "metadata": {},
   "outputs": [
    {
     "name": "stderr",
     "output_type": "stream",
     "text": [
      "c:\\ProgramData\\anaconda3\\envs\\4774-env\\Lib\\site-packages\\pandas\\core\\arraylike.py:396: RuntimeWarning: divide by zero encountered in log\n",
      "  result = getattr(ufunc, method)(*inputs, **kwargs)\n",
      "c:\\ProgramData\\anaconda3\\envs\\4774-env\\Lib\\site-packages\\seaborn\\_oldcore.py:1498: FutureWarning: is_categorical_dtype is deprecated and will be removed in a future version. Use isinstance(dtype, CategoricalDtype) instead\n",
      "  if pd.api.types.is_categorical_dtype(vector):\n",
      "c:\\ProgramData\\anaconda3\\envs\\4774-env\\Lib\\site-packages\\seaborn\\_oldcore.py:1119: FutureWarning: use_inf_as_na option is deprecated and will be removed in a future version. Convert inf values to NaN before operating instead.\n",
      "  with pd.option_context('mode.use_inf_as_na', True):\n"
     ]
    },
    {
     "data": {
      "text/plain": [
       "<Axes: ylabel='Count'>"
      ]
     },
     "execution_count": 12,
     "metadata": {},
     "output_type": "execute_result"
    },
    {
     "data": {
      "image/png": "[encoded data removed]",
      "text/plain": [
       "<Figure size 640x480 with 1 Axes>"
      ]
     },
     "metadata": {},
     "output_type": "display_data"
    }
   ],
   "source": [
    "log_lbs_per_LI = np.log(lbs_per_LI)\n",
    "sns.histplot(log_lbs_per_LI, kde=True)"
   ]
  },
  {
   "attachments": {},
   "cell_type": "markdown",
   "metadata": {},
   "source": [
    "Let's turn this into a label"
   ]
  },
  {
   "cell_type": "code",
   "execution_count": 13,
   "metadata": {},
   "outputs": [
    {
     "data": {
      "text/plain": [
       "3"
      ]
     },
     "execution_count": 13,
     "metadata": {},
     "output_type": "execute_result"
    }
   ],
   "source": [
    "np.sum([val == 0.0 for val in lbs_per_LI])"
   ]
  },
  {
   "attachments": {},
   "cell_type": "markdown",
   "metadata": {},
   "source": [
    "3 counties in the data have a value of 0 for lbs_per_LI. We'll impute these with the minimum value to move forward."
   ]
  },
  {
   "cell_type": "code",
   "execution_count": 14,
   "metadata": {},
   "outputs": [],
   "source": [
    "min_lbs_per_LI = np.min([val for val in lbs_per_LI if val > 0.0])\n",
    "imputed_lbs_per_LI = np.array([min_lbs_per_LI if val == 0.0 else val for val in lbs_per_LI])"
   ]
  },
  {
   "attachments": {},
   "cell_type": "markdown",
   "metadata": {},
   "source": [
    "Now we take the log and make the bins"
   ]
  },
  {
   "cell_type": "code",
   "execution_count": 15,
   "metadata": {},
   "outputs": [
    {
     "name": "stderr",
     "output_type": "stream",
     "text": [
      "c:\\ProgramData\\anaconda3\\envs\\4774-env\\Lib\\site-packages\\seaborn\\_oldcore.py:1498: FutureWarning: is_categorical_dtype is deprecated and will be removed in a future version. Use isinstance(dtype, CategoricalDtype) instead\n",
      "  if pd.api.types.is_categorical_dtype(vector):\n",
      "c:\\ProgramData\\anaconda3\\envs\\4774-env\\Lib\\site-packages\\seaborn\\_oldcore.py:1119: FutureWarning: use_inf_as_na option is deprecated and will be removed in a future version. Convert inf values to NaN before operating instead.\n",
      "  with pd.option_context('mode.use_inf_as_na', True):\n"
     ]
    },
    {
     "data": {
      "text/plain": [
       "<Axes: ylabel='Count'>"
      ]
     },
     "execution_count": 15,
     "metadata": {},
     "output_type": "execute_result"
    },
    {
     "data": {
      "image/png": "[encoded data removed]",
      "text/plain": [
       "<Figure size 640x480 with 1 Axes>"
      ]
     },
     "metadata": {},
     "output_type": "display_data"
    }
   ],
   "source": [
    "log_lbs_per_LI = np.log(imputed_lbs_per_LI)\n",
    "sns.histplot(log_lbs_per_LI, kde=True)"
   ]
  },
  {
   "cell_type": "code",
   "execution_count": 16,
   "metadata": {},
   "outputs": [
    {
     "name": "stderr",
     "output_type": "stream",
     "text": [
      "c:\\ProgramData\\anaconda3\\envs\\4774-env\\Lib\\site-packages\\seaborn\\_oldcore.py:1498: FutureWarning: is_categorical_dtype is deprecated and will be removed in a future version. Use isinstance(dtype, CategoricalDtype) instead\n",
      "  if pd.api.types.is_categorical_dtype(vector):\n",
      "c:\\ProgramData\\anaconda3\\envs\\4774-env\\Lib\\site-packages\\seaborn\\_oldcore.py:1119: FutureWarning: use_inf_as_na option is deprecated and will be removed in a future version. Convert inf values to NaN before operating instead.\n",
      "  with pd.option_context('mode.use_inf_as_na', True):\n"
     ]
    },
    {
     "data": {
      "text/plain": [
       "<Axes: xlabel='bin_lbs_per_LI', ylabel='Count'>"
      ]
     },
     "execution_count": 16,
     "metadata": {},
     "output_type": "execute_result"
    },
    {
     "data": {
      "image/png": "[encoded data removed]",
      "text/plain": [
       "<Figure size 640x480 with 1 Axes>"
      ]
     },
     "metadata": {},
     "output_type": "display_data"
    }
   ],
   "source": [
    "NUM_CATEGORIES = 7\n",
    "data['bin_lbs_per_LI'] = pd.cut(log_lbs_per_LI, bins=NUM_CATEGORIES, labels=False)\n",
    "sns.histplot(data=data, x='bin_lbs_per_LI', kde=True, bins=NUM_CATEGORIES)"
   ]
  },
  {
   "attachments": {},
   "cell_type": "markdown",
   "metadata": {},
   "source": [
    "Take out County and class labels"
   ]
  },
  {
   "cell_type": "code",
   "execution_count": 17,
   "metadata": {},
   "outputs": [],
   "source": [
    "counties = data.pop('County')\n",
    "labels = data.pop('bin_lbs_per_LI')"
   ]
  },
  {
   "attachments": {},
   "cell_type": "markdown",
   "metadata": {},
   "source": [
    "Drop all other county-identifying information"
   ]
  },
  {
   "cell_type": "code",
   "execution_count": 18,
   "metadata": {},
   "outputs": [],
   "source": [
    "data.drop(['Virginia City/County Boundaries', 'LAT', 'LON'], axis=1, inplace=True)"
   ]
  },
  {
   "attachments": {},
   "cell_type": "markdown",
   "metadata": {},
   "source": [
    "Setting up a sklearn pipeline"
   ]
  },
  {
   "cell_type": "code",
   "execution_count": 19,
   "metadata": {},
   "outputs": [],
   "source": [
    "num_attribs = data.select_dtypes(exclude=['object']).columns.tolist()\n",
    "\n",
    "num_pipeline = Pipeline([\n",
    "        ('std_scaler', StandardScaler())\n",
    "    ])\n",
    "\n",
    "full_pipeline = ColumnTransformer([\n",
    "        (\"\", num_pipeline, num_attribs)\n",
    "    ])\n",
    "\n",
    "data_prepared = full_pipeline.fit_transform(data)"
   ]
  },
  {
   "attachments": {},
   "cell_type": "markdown",
   "metadata": {},
   "source": [
    "Conducting clustering "
   ]
  },
  {
   "cell_type": "code",
   "execution_count": 23,
   "metadata": {},
   "outputs": [
    {
     "name": "stdout",
     "output_type": "stream",
     "text": [
      "0.21292568815586624\n",
      "0.152596218133047\n"
     ]
    }
   ],
   "source": [
    "kmeans = KMeans(n_clusters=NUM_CATEGORIES, n_init='auto').fit(data_prepared)\n",
    "print(skl.metrics.silhouette_score(data_prepared, kmeans.labels_, metric='cosine'))\n",
    "print(skl.metrics.v_measure_score(labels.to_numpy(), kmeans.labels_))"
   ]
  },
  {
   "cell_type": "code",
   "execution_count": 24,
   "metadata": {},
   "outputs": [
    {
     "name": "stdout",
     "output_type": "stream",
     "text": [
      "0.218750008114811\n"
     ]
    },
    {
     "data": {
      "text/plain": [
       "0.15767973088068252"
      ]
     },
     "execution_count": 24,
     "metadata": {},
     "output_type": "execute_result"
    }
   ],
   "source": [
    "DBS = DBSCAN(eps=8).fit(data_prepared)\n",
    "print(skl.metrics.silhouette_score(data_prepared, DBS.labels_, metric='cosine'))\n",
    "skl.metrics.v_measure_score(labels.to_numpy(), DBS.labels_)"
   ]
  },
  {
   "cell_type": "code",
   "execution_count": 25,
   "metadata": {},
   "outputs": [
    {
     "name": "stdout",
     "output_type": "stream",
     "text": [
      "0.35000208793774956\n"
     ]
    },
    {
     "data": {
      "text/plain": [
       "0.16573071160640612"
      ]
     },
     "execution_count": 25,
     "metadata": {},
     "output_type": "execute_result"
    }
   ],
   "source": [
    "GM = GaussianMixture(n_components=NUM_CATEGORIES).fit(data_prepared)\n",
    "print(skl.metrics.silhouette_score(data_prepared, GM.predict(data_prepared), metric='cosine'))\n",
    "skl.metrics.v_measure_score(labels.to_numpy(), GM.predict(data_prepared))"
   ]
  },
  {
   "attachments": {},
   "cell_type": "markdown",
   "metadata": {},
   "source": [
    "### Tune Clustering"
   ]
  },
  {
   "cell_type": "code",
   "execution_count": null,
   "metadata": {},
   "outputs": [],
   "source": [
    "from sklearn.metrics import silhouette_score\n",
    "\n",
    "def silhouette_caller(estimator, X):\n",
    "    score = silhouette_score(X=X, labels=estimator.labels_)\n",
    "    return score"
   ]
  },
  {
   "cell_type": "code",
   "execution_count": null,
   "metadata": {},
   "outputs": [],
   "source": [
    "from sklearn.model_selection import RandomizedSearchCV\n",
    "import scipy.stats as stats\n",
    "\n",
    "param_dist = {\n",
    "    \"n_clusters\": stats.randint(2, 8)\n",
    "}\n",
    "\n",
    "kmeans = KMeans(n_init='auto')\n",
    "tuner = RandomizedSearchCV(kmeans, param_dist, scoring=silhouette_caller)\n",
    "tuned = tuner.fit(data_prepared)\n",
    "\n",
    "print(tuned.best_params_)\n",
    "print(skl.metrics.silhouette_score(data_prepared, tuned.best_estimator_.labels_, metric='cosine'))\n",
    "pd.DataFrame(tuned.cv_results_)"
   ]
  },
  {
   "cell_type": "code",
   "execution_count": null,
   "metadata": {},
   "outputs": [],
   "source": [
    "param_dist = {\n",
    "    \"eps\": stats.uniform(0.5, 10),\n",
    "    \"min_samples\": stats.randint(2, 25),\n",
    "}\n",
    "\n",
    "DBS = DBSCAN()\n",
    "tuner = RandomizedSearchCV(DBS, param_dist, scoring=silhouette_caller)\n",
    "tuned = tuner.fit(data_prepared)\n",
    "\n",
    "print(tuned.best_params_)\n",
    "print(skl.metrics.silhouette_score(data_prepared, tuned.best_estimator_.labels_, metric='euclidean'))\n",
    "pd.DataFrame(tuned.cv_results_)"
   ]
  },
  {
   "cell_type": "code",
   "execution_count": null,
   "metadata": {},
   "outputs": [],
   "source": [
    "DBS = DBSCAN(eps=8).fit(data_prepared)\n",
    "print(skl.metrics.silhouette_score(data_prepared, DBS.labels_, metric='cosine'))"
   ]
  },
  {
   "cell_type": "code",
   "execution_count": null,
   "metadata": {},
   "outputs": [],
   "source": [
    "GM = GaussianMixture(n_components=NUM_CATEGORIES).fit(data_prepared)\n",
    "print(skl.metrics.silhouette_score(data_prepared, GM.predict(data_prepared), metric='cosine'))"
   ]
  }
 ],
 "metadata": {
  "kernelspec": {
   "display_name": "Python 3",
   "language": "python",
   "name": "python3"
  },
  "language_info": {
   "codemirror_mode": {
    "name": "ipython",
    "version": 3
   },
   "file_extension": ".py",
   "mimetype": "text/x-python",
   "name": "python",
   "nbconvert_exporter": "python",
   "pygments_lexer": "ipython3",
   "version": "3.11.4"
  },
  "orig_nbformat": 4
 },
 "nbformat": 4,
 "nbformat_minor": 2
}
